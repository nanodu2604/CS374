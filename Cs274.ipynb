{
  "nbformat": 4,
  "nbformat_minor": 0,
  "metadata": {
    "colab": {
      "provenance": [],
      "authorship_tag": "ABX9TyNQkFGSa8vzMEnAQOs5Jigu",
      "include_colab_link": true
    },
    "kernelspec": {
      "name": "python3",
      "display_name": "Python 3"
    },
    "language_info": {
      "name": "python"
    }
  },
  "cells": [
    {
      "cell_type": "markdown",
      "metadata": {
        "id": "view-in-github",
        "colab_type": "text"
      },
      "source": [
        "<a href=\"https://colab.research.google.com/github/nanodu2604/CS374/blob/main/Cs274.ipynb\" target=\"_parent\"><img src=\"https://colab.research.google.com/assets/colab-badge.svg\" alt=\"Open In Colab\"/></a>"
      ]
    },
    {
      "cell_type": "markdown",
      "source": [
        "# <font color=lightgreen> Base conversion"
      ],
      "metadata": {
        "id": "FrC77tsgLaFr"
      }
    },
    {
      "cell_type": "markdown",
      "source": [
        "#<font color=lightblue>I. Convert decimal (base10) to another base and vice versa\n",
        "##$n_{\\text{new_base}}=\\sum_{i=0}{(10)^{i}*(int(\\frac{n_{10}}{(\\text{new_base})^i})\\mod(\\text{new_base})}$\n",
        "##Vice versa: $n_{10}=\\sum_{i=0}{(\\text{new_base})^{i}*(int(\\frac{n_{\\text{new_base}}}{(10)^i})\\mod 10)}$\n",
        "##When to stop itteration: When  $\\frac{n_{\\text{new_base}}}{(10)^i}\\leq 0$ or $\\frac{n_{10}}{(\\text{new_base})^i}\\leq 0$"
      ],
      "metadata": {
        "id": "PZzaIiZwxA7U"
      }
    },
    {
      "cell_type": "code",
      "execution_count": null,
      "metadata": {
        "id": "YjClomCev5Cx"
      },
      "outputs": [],
      "source": [
        "#convert to/from base 10\n",
        "#Move to Base16 class if base=16\n",
        "class Base10:\n",
        "  d=None\n",
        "  other=None\n",
        "  def __init__(self,number,base):\n",
        "    if base==10:\n",
        "      self.d=number\n",
        "    elif base==16:\n",
        "      print(\"Please go to Base16 converter\")\n",
        "      return\n",
        "    else:\n",
        "      self.other=number\n",
        "    self.base=base\n",
        "  def __str__(self): #present object\n",
        "    if self.d is None:\n",
        "      return f\"number {self.other} base {self.base}\"\n",
        "    else:\n",
        "      return f\"number {self.d} base {self.base}\"\n",
        "  def convert_base(self,newbase):\n",
        "    if newbase==16:\n",
        "      print(\" Please go to Base16 converter\")\n",
        "      return\n",
        "    q=self.d if self.d is not None else self.other\n",
        "    res=0\n",
        "    i=0\n",
        "    while q>0:\n",
        "      r= q % newbase #find the modulo\n",
        "      #Accumulate the multiplication\n",
        "      res+=r*(self.base**i) #old_base raise to i time the whole thing up on formula\n",
        "      i+=1\n",
        "      q//=newbase #similar to find the n_oldbase divide by power(new_base,i)\n",
        "    if self.d is not None:\n",
        "      self.base,self.other,self.d=newbase,res,None\n",
        "    else:\n",
        "      self.base,self.d,self.other=newbase,res,None"
      ]
    },
    {
      "cell_type": "code",
      "source": [
        "#test case\n",
        "ob=Base10(305,10)\n",
        "print(ob)\n",
        "ob.convert_base(2)\n",
        "print(f\"After converting to base {ob.base}: {ob}\")\n",
        "ob.convert_base(10)\n",
        "print(f\"After converting to base {ob.base}: {ob}\")"
      ],
      "metadata": {
        "colab": {
          "base_uri": "https://localhost:8080/"
        },
        "id": "3WarOGI5xNTr",
        "outputId": "48c70518-42cc-4a17-d481-5d591e571e58"
      },
      "execution_count": null,
      "outputs": [
        {
          "output_type": "stream",
          "name": "stdout",
          "text": [
            "number 305 base 10\n",
            "After converting to base 2: number 100110001 base 2\n",
            "After converting to base 10: number 305 base 10\n"
          ]
        }
      ]
    },
    {
      "cell_type": "markdown",
      "source": [
        "# <font color=lightblue> II. Convert from octal to binary and vice versa\n",
        "## * Approach 1: Convert indirectly, through decimal (base 10) :convert source base to base 10 and then convert from base 10 to destination base\n",
        "## * Approach 2: Convert directly\n",
        "## Binary to octal: $n_8=\\sum_{i=0}{(int(\\frac{n_2}{(10)^i})\\mod 10)*2^{(i\\mod 3)}}*10^{int(\\frac{i}{3})}$\n",
        "## When to stop itteration: $\\frac{n_2}{(10)^2}\\leq 0$\n",
        "## Vice versa: $n_2=\\sum_{i=0}{int(\\frac{int(\\frac{n_8}{10^{int(\\frac{i}{3})}})\\mod 10}{2^i}) \\mod 2 *10^i}$\n",
        "# -Convert from the binary to base 10: Part I\n"
      ],
      "metadata": {
        "id": "hPSbKmCgQ4Kc"
      }
    },
    {
      "cell_type": "code",
      "source": [
        "class Base8:\n",
        "  o=None\n",
        "  b=None\n",
        "  d=None\n",
        "  def __init__(self,number,base):\n",
        "    if base==8:\n",
        "      self.o=number\n",
        "    elif base==16:\n",
        "      print(\"Please go to Base16 converter\")\n",
        "      return\n",
        "    elif base==2:\n",
        "      self.b=number\n",
        "    else:\n",
        "      self.d=number\n",
        "    self.base=base\n",
        "  def __str__(self): #present object\n",
        "    if self.o is None and self.b is not None:\n",
        "      return f\"number {self.b} base {self.base}\"\n",
        "    else:\n",
        "      return f\"number {self.o} base {self.base}\"\n",
        "  def convert_to_bin(self):\n",
        "    if self.o is None:\n",
        "      print(\"Cannot convert since it is None\")\n",
        "      return\n",
        "    o=self.o\n",
        "    res=0\n",
        "    i=0\n",
        "    while o>0: # n itterations\n",
        "      o,r=divmod(o,10)\n",
        "      while r>0: # max 3 itterations\n",
        "        r,s=divmod(r,2)\n",
        "        res+=s*10**i\n",
        "        i+=1\n",
        "    self.b,self.base,self.o=res,2,None\n",
        "  def convert_to_oct(self):\n",
        "    if self.b==None:\n",
        "      print(\"Cannot convert since it is None\")\n",
        "      return\n",
        "    b=self.b\n",
        "    res=0\n",
        "    i=0\n",
        "    while b>0:\n",
        "      b,r=divmod(b,10)\n",
        "      res+=2**(i%3)*r*10**(i//3)\n",
        "      i+=1\n",
        "    self.o,self.base,self.b=res,8,None\n",
        "  def convert_to_dec(self):\n",
        "    if self.o:\n",
        "      ob=Base10(number=self.o,base=self.base)\n",
        "      ob.convert_base(10)\n",
        "      self.o,self.base,self.b=None,ob.d,10\n",
        "    else:\n",
        "      print(\"Cannot convert since it is None\")\n",
        "      return"
      ],
      "metadata": {
        "id": "qTsT5lA82y2m"
      },
      "execution_count": null,
      "outputs": []
    },
    {
      "cell_type": "code",
      "source": [
        "ob=Base8(56,8)\n",
        "ob.convert_to_bin()\n",
        "print(ob)\n",
        "ob.convert_to_oct()\n",
        "print(ob)\n",
        "ob.convert_to_dec()\n",
        "print(ob)"
      ],
      "metadata": {
        "id": "a9U-39Qlb41Y",
        "colab": {
          "base_uri": "https://localhost:8080/"
        },
        "outputId": "7c4f2930-957b-48c0-a671-71835e5deba4"
      },
      "execution_count": null,
      "outputs": [
        {
          "output_type": "stream",
          "name": "stdout",
          "text": [
            "number 101110 base 2\n",
            "number 56 base 8\n",
            "number 10 base 46\n"
          ]
        }
      ]
    },
    {
      "cell_type": "markdown",
      "source": [
        "#<font color=\"lightblue\"> III. Hexadecimal:\n",
        "# * Binary from/to hexadecimal: Similar method as binary to octal in part III.\n",
        "# * Decimal from/to hexadecimal: In part I.\n",
        "# * Octal from/to hexadecimal: Two approaches but prefer to approach 1 which is effiecient.\n",
        "## + Approach 1: Convert octal $⟺$ binary and then convert binary $⟺$ hexadecimal in part II.\n",
        "## + Approach 2: Convert octal $⟺$ decimal and then convert decimal $⟺$ hexadecimal in part I.\n",
        "# What special about hexadecimal:\n",
        "# If $n>9$ (10,11,12,13,14,15) will be replaced by alphabet letter from A-F."
      ],
      "metadata": {
        "id": "etu1_2DTpJfn"
      }
    },
    {
      "cell_type": "code",
      "source": [
        "from typing_extensions import Deque\n",
        "from collections import deque\n",
        "class Base16:\n",
        "  _char={'A':10,'B':11,'C':12,'D':13,'E':14,'F':15}\n",
        "  _char_inv={10:'A',11:'B',12:'C',13:'D',14:'E',15:'F'}\n",
        "  h=None\n",
        "  o=None\n",
        "  d=None\n",
        "  b=None\n",
        "  def __init__(self,number,base):\n",
        "    # If the base is 16, only accept number as the string with characters\n",
        "    if base==16:\n",
        "      self.h=number\n",
        "    elif base==8:\n",
        "      self.o=number\n",
        "    elif base==10:\n",
        "      self.d=number\n",
        "    elif base==2:\n",
        "      self.b=number\n",
        "    self.base=base\n",
        "  def __str__(self): #present object\n",
        "    if self.base==16:\n",
        "      return f\"number {self.h} base {self.base}\"\n",
        "    elif self.base==8:\n",
        "      return f\"number {self.o} base {self.base}\"\n",
        "    elif self.base==10:\n",
        "      return f\"number {self.d} base {self.base}\"\n",
        "    else:\n",
        "      return f\"number {self.b} base {self.base}\"\n",
        "  def convert_to_hex(self):\n",
        "    self.h=\"\"\n",
        "    if self.base==8:\n",
        "      oct=Base8(number=self.o,base=self.base)\n",
        "      oct.convert_to_bin()\n",
        "      self.b,self.base,self.o=oct.b,oct.base,oct.o\n",
        "      bin=Base16(number=self.b,base=self.base)\n",
        "      bin.convert_to_hex()\n",
        "      self.b,self.base,self.h=bin.b,bin.base,bin.h\n",
        "    elif self.base==10:\n",
        "      while self.d>0:\n",
        "        self.d,r=divmod(self.d,16)\n",
        "        self.h+=self._char_inv[r] if r>9 else str(r)\n",
        "      self.d,self.base=None,16\n",
        "    elif self.base==2:\n",
        "      stack=Deque()\n",
        "      i=0\n",
        "      res=0\n",
        "      while self.b>0:\n",
        "        self.b,r=divmod(self.b,10)\n",
        "        res+=2**(i%4)*r\n",
        "        if i%4==3:\n",
        "          t=self._char_inv[res] if res>9 else str(res)\n",
        "          stack.append(t)\n",
        "          res=0\n",
        "        i+=1\n",
        "      while len(stack)>0:\n",
        "        self.h+=stack.pop()\n",
        "      self.b,self.base=None,16\n",
        "  #from base 16 convert to base 8\n",
        "  def convert_to_oct(self):\n",
        "    self.convert_to_bin()\n",
        "    oct=Base8(self.b,self.base)\n",
        "    oct.convert_to_oct()\n",
        "    self.o,self.base,self.b=oct.o,oct.base,oct.b\n",
        "  #from base 16 convert to base 10\n",
        "  def convert_to_bin(self):\n",
        "    self.b=0\n",
        "    if self.h is None:\n",
        "      print(\"Cannot convert since it is None\")\n",
        "    h=list(self.h)\n",
        "    N=len(h)\n",
        "    #do something with self.b\n",
        "    for i in range(N):\n",
        "      k=0\n",
        "      try:\n",
        "        q = self._char[h[i]]\n",
        "      except KeyError:\n",
        "        q = int(h[i])\n",
        "      #q=self._char[h[i]] if h[i] in self._cha else int(h[i])\n",
        "      while q>0:\n",
        "        q,r=divmod(q,2)\n",
        "        self.b+=r*10**(4*N-4*(i+1)+k)\n",
        "        k+=1\n",
        "    self.base,self.h=2,None\n",
        "  def convert_to_dec(self):\n",
        "    self.d=0\n",
        "    if self.h is None:\n",
        "      print(\"Cannot convert since it is None\")\n",
        "      return\n",
        "    h=list(self.h)\n",
        "    N=len(h)\n",
        "    for i in range(N):\n",
        "      self.d+=16**(N-i-1)*self._char[h[i]] if self._char[h[i]]>9 else 16**(N-i-1)*int(h[i])\n",
        "    self.base,self.h=10,None"
      ],
      "metadata": {
        "id": "HPybocRjn908"
      },
      "execution_count": null,
      "outputs": []
    },
    {
      "cell_type": "code",
      "source": [
        "ob=Base16(12,10)\n",
        "print(ob)\n",
        "ob.convert_to_hex()\n",
        "print(ob)\n",
        "ob.convert_to_oct()\n",
        "print(ob)\n",
        "ob.convert_to_hex()\n",
        "print(ob)\n",
        "ob.convert_to_dec()\n",
        "print(ob)\n",
        "ob.convert_to_hex()\n",
        "print(ob)\n",
        "ob.convert_to_bin()\n",
        "print(ob)"
      ],
      "metadata": {
        "colab": {
          "base_uri": "https://localhost:8080/"
        },
        "id": "RUqgrRblKWXp",
        "outputId": "2ed55bc5-653b-4a46-bffc-4b4eda04ed9c"
      },
      "execution_count": null,
      "outputs": [
        {
          "output_type": "stream",
          "name": "stdout",
          "text": [
            "number 12 base 10\n",
            "number C base 16\n",
            "number 14 base 8\n",
            "number C base 16\n",
            "number 12 base 10\n",
            "number C base 16\n",
            "number 1100 base 2\n"
          ]
        }
      ]
    }
  ]
}